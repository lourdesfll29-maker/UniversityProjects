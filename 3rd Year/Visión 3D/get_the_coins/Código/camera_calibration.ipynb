{
 "cells": [
  {
   "cell_type": "markdown",
   "metadata": {},
   "source": [
    "# Get The Coins Camera Calibration"
   ]
  },
  {
   "cell_type": "markdown",
   "metadata": {},
   "source": [
    "## 1. Needed Libraries"
   ]
  },
  {
   "cell_type": "code",
   "execution_count": null,
   "metadata": {},
   "outputs": [],
   "source": [
    "# External libraries\n",
    "\n",
    "import cv2\n",
    "import numpy as np\n",
    "import glob\n",
    "import os\n",
    "from time import sleep\n",
    "\n",
    "# Own libraries\n",
    "\n",
    "from my_logger import MyLogger"
   ]
  },
  {
   "cell_type": "markdown",
   "metadata": {},
   "source": [
    "## 2. Create logger instance"
   ]
  },
  {
   "cell_type": "code",
   "execution_count": null,
   "metadata": {},
   "outputs": [],
   "source": [
    "logger = MyLogger(level='DEBUG', show_timestamp=False)"
   ]
  },
  {
   "cell_type": "markdown",
   "metadata": {},
   "source": [
    "## 3. Capture images for calibration\n",
    "\n",
    "It is necessary to capture at least 4 images."
   ]
  },
  {
   "cell_type": "code",
   "execution_count": null,
   "metadata": {},
   "outputs": [],
   "source": [
    "# Define the output directory for image capturing\n",
    "output_dir = \"./media/calibration/calibration_images_test\"\n",
    "\n",
    "# Open device\n",
    "video = cv2.VideoCapture(2)\n",
    "\n",
    "if video.isOpened():\n",
    "\n",
    "    # STEP 1. Create window for displaying -----------------------------\n",
    "\n",
    "    window_name = f'Showing video stream'\n",
    "    # Opens a window to show the video stream\n",
    "    cv2.namedWindow(window_name)\n",
    "\n",
    "    # STEP 2. Definition of control variables --------------------------\n",
    "\n",
    "    window_is_visible = True\n",
    "    key = -1  # to start key must be different to ord('q') = 113\n",
    "    frame_count = 0  # index to know the current frame\n",
    "    key_wait_delay = 1  # delay time in milliseconds\n",
    "\n",
    "    # STEP 3. Create the output directory if it does not exist ---------\n",
    "\n",
    "    if not os.path.exists(output_dir):\n",
    "        os.makedirs(output_dir)\n",
    "\n",
    "    # STEP 4. Start frames displaying ----------------------------------\n",
    "\n",
    "    logger.info('Start of video streaming.')\n",
    "    logger.info(\"Press 'c' for image capturing.\")\n",
    "    logger.info(\"Press 'q' to end image capture.\")\n",
    "\n",
    "    while ((video.isOpened()) and (key != ord('q'))\n",
    "            and window_is_visible):\n",
    "\n",
    "        ret_ok, frame = video.read()\n",
    "\n",
    "        if ret_ok:\n",
    "            if (key == ord('c')):\n",
    "                path = os.path.join(\n",
    "                    output_dir, f'{frame_count:05d}.bmp')\n",
    "\n",
    "                cv2.imwrite(path, frame)\n",
    "                logger.debug(f'Saved {path}')\n",
    "\n",
    "            frame_count += 1\n",
    "\n",
    "            # Defining the dimensions of checkerboard\n",
    "            pattern_size = (6, 9)\n",
    "\n",
    "            # Find the chess board corners\n",
    "            gray = cv2.cvtColor(frame, cv2.COLOR_BGR2GRAY)\n",
    "\n",
    "            # If desired number of corners are found in the image\n",
    "            # then ret = true\n",
    "            ret, corners = cv2.findChessboardCorners(\n",
    "                gray, pattern_size, None)\n",
    "\n",
    "            frame = cv2.drawChessboardCorners(\n",
    "                frame, pattern_size, corners, ret)\n",
    "\n",
    "            cv2.imshow(window_name, frame)\n",
    "\n",
    "            # Press 'q' key to finish the while loop\n",
    "            key = cv2.waitKey(key_wait_delay)\n",
    "\n",
    "            # Check if the window has been closed\n",
    "            if cv2.getWindowProperty(\n",
    "                window_name, cv2.WND_PROP_VISIBLE) == 0:\n",
    "                window_is_visible = False\n",
    "        else:\n",
    "            break\n",
    "\n",
    "    logger.info('End of video streaming.')\n",
    "\n",
    "    cv2.destroyAllWindows()\n",
    "\n",
    "else:\n",
    "    logger.error('To display a stream you must first configure a '\n",
    "                 'correct video streaming address.')"
   ]
  },
  {
   "cell_type": "markdown",
   "metadata": {},
   "source": [
    "## 4. Calibration of intrinsic camera parameters"
   ]
  },
  {
   "cell_type": "code",
   "execution_count": null,
   "metadata": {},
   "outputs": [],
   "source": [
    "# Chessboard dimensions\n",
    "number_of_squares_X = 7  # Squares along the X-axis\n",
    "number_of_squares_Y = 10  # Squares along the Y-axis\n",
    "nX = number_of_squares_X - 1  # Interior corners along the X-axis\n",
    "nY = number_of_squares_Y - 1  # Interior corners along the Y-axis\n",
    "square_size = 0.026  # Size of a square in meters\n",
    "  \n",
    "# Termination criteria for corner refinement\n",
    "criteria = (cv2.TERM_CRITERIA_EPS + cv2.TERM_CRITERIA_MAX_ITER, 12000, 0.0000001)\n",
    "\n",
    "# Define the 3D coordinates of the points in the world coordinate frame\n",
    "object_points_3D = np.zeros((nX * nY, 3), np.float32)  \n",
    "object_points_3D[:,:2] = np.mgrid[0:nY, 0:nX].T.reshape(-1, 2) \n",
    "object_points_3D = object_points_3D * square_size\n",
    "\n",
    "# Lists to store object and image points from all images\n",
    "object_points = []  # 3D points in world space\n",
    "image_points = []   # 2D points in image plane\n",
    "\n",
    "# Get the file path for images in the current directory\n",
    "images = glob.glob('./media/calibration/calibration_images_test/*.bmp')\n",
    "\n",
    "for image_file in images:\n",
    "    image = cv2.imread(image_file)\n",
    "    gray = cv2.cvtColor(image, cv2.COLOR_BGR2GRAY)\n",
    "\n",
    "    # Detect chessboard corners\n",
    "    success, corners = cv2.findChessboardCorners(gray, (nY, nX), None)\n",
    "\n",
    "    if success:\n",
    "        object_points.append(object_points_3D)\n",
    "\n",
    "        # Refine corner accuracy\n",
    "        corners_2 = cv2.cornerSubPix(gray, corners, (11, 11), (-1, -1), criteria)\n",
    "        image_points.append(corners_2)\n",
    "\n",
    "        # Draw and show corners\n",
    "        cv2.drawChessboardCorners(image, (nY, nX), corners_2, success)\n",
    "        cv2.imshow(\"Image\", image)\n",
    "        cv2.waitKey(100)\n",
    "                                                                                                                    \n",
    "# Calibrate the camera\n",
    "ret, mtx, dist, rvecs, tvecs = cv2.calibrateCamera(\n",
    "  object_points, image_points, gray.shape[::-1], None, None\n",
    ")\n",
    "\n",
    "# Save calibration results to file\n",
    "cv_file = cv2.FileStorage('./media/calibration/intrinsec_parameters_test.yaml', cv2.FILE_STORAGE_WRITE)\n",
    "cv_file.write('K', mtx)  # Save the camera matrix\n",
    "cv_file.write('D', dist)  # Save the distortion coefficients\n",
    "cv_file.release()\n",
    "  \n",
    "# Display the camera calibration results\n",
    "logger.info(\"Camera matrix:\") \n",
    "logger.info(f\"\\n{mtx}\") \n",
    "\n",
    "logger.info(\"Distortion coefficients:\") \n",
    "logger.info(f\"\\n{dist}\") \n",
    "\n",
    "# Close all open windows\n",
    "cv2.destroyAllWindows()"
   ]
  },
  {
   "cell_type": "markdown",
   "metadata": {},
   "source": [
    "## 4. Create ArUco markers"
   ]
  },
  {
   "cell_type": "code",
   "execution_count": null,
   "metadata": {},
   "outputs": [],
   "source": [
    "# create the dictionary for markers type\n",
    "dictionary = cv2.aruco.getPredefinedDictionary(cv2.aruco.DICT_6X6_250)\n",
    "size_of_marker = 400  # size of marker.\n",
    "\n",
    "# generating IDs with for loop\n",
    "for marker_id in range(2):\n",
    "    # generating the marker\n",
    "    img = cv2.aruco.generateImageMarker(dictionary, marker_id, size_of_marker)\n",
    "\n",
    "    print(\"Dimension of Marker: \", img.shape)\n",
    "    # save/write the image\n",
    "    cv2.imwrite(\"./markers/DICT_6X6_250_{}.png\".format(marker_id), img)\n",
    "\n",
    "# display the image(marker) on windows\n",
    "cv2.imshow(\"Marker\", img)\n",
    "cv2.waitKey(0)\n",
    "cv2.destroyAllWindows()"
   ]
  }
 ],
 "metadata": {
  "authors": [
   {
    "name": "Antonio J. Sánchez Salmerón"
   }
  ],
  "kernelspec": {
   "display_name": "open3d_env_v2",
   "language": "python",
   "name": "python3"
  },
  "language_info": {
   "codemirror_mode": {
    "name": "ipython",
    "version": 3
   },
   "file_extension": ".py",
   "mimetype": "text/x-python",
   "name": "python",
   "nbconvert_exporter": "python",
   "pygments_lexer": "ipython3",
   "version": "3.11.11"
  },
  "title": "Python and Numpy",
  "toc-autonumbering": false,
  "toc-showcode": false,
  "toc-showmarkdowntxt": false,
  "toc-showtags": false
 },
 "nbformat": 4,
 "nbformat_minor": 4
}
